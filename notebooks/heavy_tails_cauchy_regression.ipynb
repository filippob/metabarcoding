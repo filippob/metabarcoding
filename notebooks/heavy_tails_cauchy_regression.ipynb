{
 "cells": [
  {
   "cell_type": "code",
   "execution_count": 1,
   "id": "135dfb2c",
   "metadata": {},
   "outputs": [
    {
     "name": "stderr",
     "output_type": "stream",
     "text": [
      "Loading required package: ggplot2\n",
      "\n",
      "── \u001b[1mAttaching packages\u001b[22m ────────────────────────────────────────────────────────────────────────────────────────────────────────────────────────────────────────────────────────────────── tidyverse 1.3.2 ──\n",
      "\u001b[32m✔\u001b[39m \u001b[34mtibble \u001b[39m 3.2.1     \u001b[32m✔\u001b[39m \u001b[34mdplyr  \u001b[39m 1.1.4\n",
      "\u001b[32m✔\u001b[39m \u001b[34mtidyr  \u001b[39m 1.3.0     \u001b[32m✔\u001b[39m \u001b[34mstringr\u001b[39m 1.5.0\n",
      "\u001b[32m✔\u001b[39m \u001b[34mreadr  \u001b[39m 2.1.3     \u001b[32m✔\u001b[39m \u001b[34mforcats\u001b[39m 1.0.0\n",
      "\u001b[32m✔\u001b[39m \u001b[34mpurrr  \u001b[39m 1.0.2     \n",
      "── \u001b[1mConflicts\u001b[22m ───────────────────────────────────────────────────────────────────────────────────────────────────────────────────────────────────────────────────────────────────── tidyverse_conflicts() ──\n",
      "\u001b[31m✖\u001b[39m \u001b[34mdplyr\u001b[39m::\u001b[32mfilter()\u001b[39m masks \u001b[34mstats\u001b[39m::filter()\n",
      "\u001b[31m✖\u001b[39m \u001b[34mdplyr\u001b[39m::\u001b[32mlag()\u001b[39m    masks \u001b[34mstats\u001b[39m::lag()\n"
     ]
    }
   ],
   "source": [
    "library(\"broom\")\n",
    "library(\"ggpubr\")\n",
    "library(\"ggplot2\")\n",
    "library(\"tidyverse\")"
   ]
  },
  {
   "cell_type": "code",
   "execution_count": 2,
   "id": "4f8c9408",
   "metadata": {},
   "outputs": [],
   "source": [
    "basefolder = \"~/Documents/moroni/capre/delower\"\n",
    "outdir = file.path(basefolder, \"paper\")"
   ]
  },
  {
   "cell_type": "code",
   "execution_count": 3,
   "id": "842d62d5",
   "metadata": {},
   "outputs": [
    {
     "data": {
      "text/html": [
       "<style>\n",
       ".list-inline {list-style: none; margin:0; padding: 0}\n",
       ".list-inline>li {display: inline-block}\n",
       ".list-inline>li:not(:last-child)::after {content: \"\\00b7\"; padding: 0 .5ex}\n",
       "</style>\n",
       "<ol class=list-inline><li>'phylum_relabund'</li><li>'data_for_fb'</li><li>'fb_res'</li><li>'relabund_for_lm'</li><li>'genus_stats'</li><li>'significant_genus_stats'</li><li>'contrasts'</li></ol>\n"
      ],
      "text/latex": [
       "\\begin{enumerate*}\n",
       "\\item 'phylum\\_relabund'\n",
       "\\item 'data\\_for\\_fb'\n",
       "\\item 'fb\\_res'\n",
       "\\item 'relabund\\_for\\_lm'\n",
       "\\item 'genus\\_stats'\n",
       "\\item 'significant\\_genus\\_stats'\n",
       "\\item 'contrasts'\n",
       "\\end{enumerate*}\n"
      ],
      "text/markdown": [
       "1. 'phylum_relabund'\n",
       "2. 'data_for_fb'\n",
       "3. 'fb_res'\n",
       "4. 'relabund_for_lm'\n",
       "5. 'genus_stats'\n",
       "6. 'significant_genus_stats'\n",
       "7. 'contrasts'\n",
       "\n",
       "\n"
      ],
      "text/plain": [
       "[1] \"phylum_relabund\"         \"data_for_fb\"            \n",
       "[3] \"fb_res\"                  \"relabund_for_lm\"        \n",
       "[5] \"genus_stats\"             \"significant_genus_stats\"\n",
       "[7] \"contrasts\"              "
      ]
     },
     "metadata": {},
     "output_type": "display_data"
    }
   ],
   "source": [
    "####################################\n",
    "## F:B RATIO\n",
    "####################################\n",
    "fname = file.path(basefolder, \"Analysis/results/taxa_abundance_results_goat_milk.RData\")\n",
    "load(fname)\n",
    "names(to_save)"
   ]
  },
  {
   "cell_type": "code",
   "execution_count": 4,
   "id": "e9a1e580",
   "metadata": {},
   "outputs": [],
   "source": [
    "dta = to_save$data_for_fb\n",
    "fb = to_save$fb_res"
   ]
  },
  {
   "cell_type": "code",
   "execution_count": 5,
   "id": "cee6584c",
   "metadata": {},
   "outputs": [],
   "source": [
    "fb <- fb |>\n",
    "  mutate(invFB = 1/FB)"
   ]
  },
  {
   "cell_type": "code",
   "execution_count": 6,
   "id": "809135ee",
   "metadata": {},
   "outputs": [
    {
     "data": {
      "text/html": [
       "<table class=\"dataframe\">\n",
       "<caption>A grouped_df: 6 × 7</caption>\n",
       "<thead>\n",
       "\t<tr><th scope=col>sample</th><th scope=col>treatment</th><th scope=col>timepoint</th><th scope=col>Bacteroidetes</th><th scope=col>Firmicutes</th><th scope=col>FB</th><th scope=col>invFB</th></tr>\n",
       "\t<tr><th scope=col>&lt;chr&gt;</th><th scope=col>&lt;fct&gt;</th><th scope=col>&lt;chr&gt;</th><th scope=col>&lt;dbl&gt;</th><th scope=col>&lt;dbl&gt;</th><th scope=col>&lt;dbl&gt;</th><th scope=col>&lt;dbl&gt;</th></tr>\n",
       "</thead>\n",
       "<tbody>\n",
       "\t<tr><td>sample-1  </td><td>Treated    </td><td>T1</td><td>   0.000000</td><td>  95.95202</td><td>      Inf</td><td>0.00000000</td></tr>\n",
       "\t<tr><td>sample-10 </td><td>Not treated</td><td>T1</td><td>   7.760532</td><td>  60.97561</td><td> 7.857143</td><td>0.12727273</td></tr>\n",
       "\t<tr><td>sample-100</td><td>Not treated</td><td>T3</td><td>  39.426523</td><td> 792.11470</td><td>20.090909</td><td>0.04977376</td></tr>\n",
       "\t<tr><td>sample-101</td><td>Treated    </td><td>T3</td><td> 558.011050</td><td>1230.20258</td><td> 2.204620</td><td>0.45359281</td></tr>\n",
       "\t<tr><td>sample-102</td><td>Not treated</td><td>T3</td><td>1418.502203</td><td>4112.33480</td><td> 2.899068</td><td>0.34493840</td></tr>\n",
       "\t<tr><td>sample-103</td><td>Not treated</td><td>T3</td><td> 112.648221</td><td> 472.33202</td><td> 4.192982</td><td>0.23849372</td></tr>\n",
       "</tbody>\n",
       "</table>\n"
      ],
      "text/latex": [
       "A grouped\\_df: 6 × 7\n",
       "\\begin{tabular}{lllllll}\n",
       " sample & treatment & timepoint & Bacteroidetes & Firmicutes & FB & invFB\\\\\n",
       " <chr> & <fct> & <chr> & <dbl> & <dbl> & <dbl> & <dbl>\\\\\n",
       "\\hline\n",
       "\t sample-1   & Treated     & T1 &    0.000000 &   95.95202 &       Inf & 0.00000000\\\\\n",
       "\t sample-10  & Not treated & T1 &    7.760532 &   60.97561 &  7.857143 & 0.12727273\\\\\n",
       "\t sample-100 & Not treated & T3 &   39.426523 &  792.11470 & 20.090909 & 0.04977376\\\\\n",
       "\t sample-101 & Treated     & T3 &  558.011050 & 1230.20258 &  2.204620 & 0.45359281\\\\\n",
       "\t sample-102 & Not treated & T3 & 1418.502203 & 4112.33480 &  2.899068 & 0.34493840\\\\\n",
       "\t sample-103 & Not treated & T3 &  112.648221 &  472.33202 &  4.192982 & 0.23849372\\\\\n",
       "\\end{tabular}\n"
      ],
      "text/markdown": [
       "\n",
       "A grouped_df: 6 × 7\n",
       "\n",
       "| sample &lt;chr&gt; | treatment &lt;fct&gt; | timepoint &lt;chr&gt; | Bacteroidetes &lt;dbl&gt; | Firmicutes &lt;dbl&gt; | FB &lt;dbl&gt; | invFB &lt;dbl&gt; |\n",
       "|---|---|---|---|---|---|---|\n",
       "| sample-1   | Treated     | T1 |    0.000000 |   95.95202 |       Inf | 0.00000000 |\n",
       "| sample-10  | Not treated | T1 |    7.760532 |   60.97561 |  7.857143 | 0.12727273 |\n",
       "| sample-100 | Not treated | T3 |   39.426523 |  792.11470 | 20.090909 | 0.04977376 |\n",
       "| sample-101 | Treated     | T3 |  558.011050 | 1230.20258 |  2.204620 | 0.45359281 |\n",
       "| sample-102 | Not treated | T3 | 1418.502203 | 4112.33480 |  2.899068 | 0.34493840 |\n",
       "| sample-103 | Not treated | T3 |  112.648221 |  472.33202 |  4.192982 | 0.23849372 |\n",
       "\n"
      ],
      "text/plain": [
       "  sample     treatment   timepoint Bacteroidetes Firmicutes FB       \n",
       "1 sample-1   Treated     T1           0.000000     95.95202       Inf\n",
       "2 sample-10  Not treated T1           7.760532     60.97561  7.857143\n",
       "3 sample-100 Not treated T3          39.426523    792.11470 20.090909\n",
       "4 sample-101 Treated     T3         558.011050   1230.20258  2.204620\n",
       "5 sample-102 Not treated T3        1418.502203   4112.33480  2.899068\n",
       "6 sample-103 Not treated T3         112.648221    472.33202  4.192982\n",
       "  invFB     \n",
       "1 0.00000000\n",
       "2 0.12727273\n",
       "3 0.04977376\n",
       "4 0.45359281\n",
       "5 0.34493840\n",
       "6 0.23849372"
      ]
     },
     "metadata": {},
     "output_type": "display_data"
    }
   ],
   "source": [
    "head(fb)"
   ]
  },
  {
   "cell_type": "markdown",
   "id": "53df7106",
   "metadata": {},
   "source": [
    "## does the FB data have heavy tails?"
   ]
  },
  {
   "cell_type": "code",
   "execution_count": 7,
   "id": "c9f214da",
   "metadata": {},
   "outputs": [
    {
     "data": {
      "image/png": "[encoded data removed]",
      "text/plain": [
       "Plot with title “Histogram of fb$FB”"
      ]
     },
     "metadata": {
      "image/png": {
       "height": 420,
       "width": 420
      }
     },
     "output_type": "display_data"
    }
   ],
   "source": [
    "\n",
    "hist(fb$FB)"
   ]
  },
  {
   "cell_type": "code",
   "execution_count": 8,
   "id": "7830a96f",
   "metadata": {},
   "outputs": [
    {
     "data": {
      "image/png": "[encoded data removed]",
      "text/plain": [
       "Plot with title “density.default(x = fb$FB)”"
      ]
     },
     "metadata": {
      "image/png": {
       "height": 420,
       "width": 420
      }
     },
     "output_type": "display_data"
    }
   ],
   "source": [
    "plot(density(fb$FB))"
   ]
  },
  {
   "cell_type": "markdown",
   "id": "5e287132",
   "metadata": {},
   "source": [
    "We can look at skewness and kurtosis:\n",
    "\n",
    "<u>skewness</u>\n",
    "- $0$: gaussian; \n",
    "- $< 0$: mean $<$ median (left-skew)\n",
    "- $> 0$: mean $>$ median (right-skew)\n",
    "\n",
    "<u>kurtosis</u>\n",
    "- $0$: gaussian; \n",
    "- $< 0$: platykurtic (thin tails)\n",
    "- $> 0$: leptokurtic (fat tails)\n",
    "\n",
    "You can also look at MAD/SD:\n",
    "\n",
    "- MAD: mean absolute deviation\n",
    "- SD: standard deviation\n",
    "- MAD/SD ratio as a gauge of fat-tailedness\n",
    "- MAD/SD close to zero --> fat the tails; MAD/SD close to 1 --> thin tails \n",
    "- normal distribution has a MAD/SD ratio of 0.797 (square root of 2 over pi)\n",
    "\n",
    "from: https://david-salazar.github.io/posts/fat-vs-thin-tails/2020-05-13-standard-deviation-and-fat-tails.html\n",
    "\n",
    "and from: https://www.r-bloggers.com/2012/10/how-fat-are-your-tails/\n",
    "\n",
    "and from: https://www.iaeng.org/publication/WCE2012/WCE2012_pp324-329.pdf\n",
    "\n",
    "and from: https://arxiv.org/abs/2001.10488"
   ]
  },
  {
   "cell_type": "code",
   "execution_count": 9,
   "id": "a7935211",
   "metadata": {},
   "outputs": [],
   "source": [
    "vec <- !is.infinite(fb$FB)\n",
    "temp <- fb[vec,]"
   ]
  },
  {
   "cell_type": "code",
   "execution_count": 10,
   "id": "f3e8f977",
   "metadata": {},
   "outputs": [
    {
     "data": {
      "text/html": [
       "<table class=\"dataframe\">\n",
       "<caption>A tibble: 1 × 5</caption>\n",
       "<thead>\n",
       "\t<tr><th scope=col>skewness</th><th scope=col>kurtosis</th><th scope=col>std</th><th scope=col>mad</th><th scope=col>mad_sd</th></tr>\n",
       "\t<tr><th scope=col>&lt;dbl&gt;</th><th scope=col>&lt;dbl&gt;</th><th scope=col>&lt;dbl&gt;</th><th scope=col>&lt;dbl&gt;</th><th scope=col>&lt;dbl&gt;</th></tr>\n",
       "</thead>\n",
       "<tbody>\n",
       "\t<tr><td>5.299117</td><td>33.92354</td><td>79.2647</td><td>37.50807</td><td>0.4732003</td></tr>\n",
       "</tbody>\n",
       "</table>\n"
      ],
      "text/latex": [
       "A tibble: 1 × 5\n",
       "\\begin{tabular}{lllll}\n",
       " skewness & kurtosis & std & mad & mad\\_sd\\\\\n",
       " <dbl> & <dbl> & <dbl> & <dbl> & <dbl>\\\\\n",
       "\\hline\n",
       "\t 5.299117 & 33.92354 & 79.2647 & 37.50807 & 0.4732003\\\\\n",
       "\\end{tabular}\n"
      ],
      "text/markdown": [
       "\n",
       "A tibble: 1 × 5\n",
       "\n",
       "| skewness &lt;dbl&gt; | kurtosis &lt;dbl&gt; | std &lt;dbl&gt; | mad &lt;dbl&gt; | mad_sd &lt;dbl&gt; |\n",
       "|---|---|---|---|---|\n",
       "| 5.299117 | 33.92354 | 79.2647 | 37.50807 | 0.4732003 |\n",
       "\n"
      ],
      "text/plain": [
       "  skewness kurtosis std     mad      mad_sd   \n",
       "1 5.299117 33.92354 79.2647 37.50807 0.4732003"
      ]
     },
     "metadata": {},
     "output_type": "display_data"
    }
   ],
   "source": [
    "library(\"e1071\")\n",
    "temp |>\n",
    "  ungroup() |>\n",
    "  dplyr::summarise(skewness = skewness(FB), ## 0: gaussian; < 0 : mean < median (left-skew); > 0: mean > median (right-skew)\n",
    "                   kurtosis = kurtosis(FB), ## 0: gaussian; < 0: platykurtic (thin tails); > 0: leptokurtic (fat tails)\n",
    "                   std = sd(FB, na.rm=TRUE), \n",
    "                   mad = mean(abs(FB-mean(FB))), \n",
    "                   mad_sd = mad/std)"
   ]
  },
  {
   "cell_type": "code",
   "execution_count": 11,
   "id": "b70736c8",
   "metadata": {},
   "outputs": [
    {
     "data": {
      "text/html": [
       "<table class=\"dataframe\">\n",
       "<caption>A tibble: 3 × 6</caption>\n",
       "<thead>\n",
       "\t<tr><th scope=col>timepoint</th><th scope=col>skewness</th><th scope=col>kurtosis</th><th scope=col>std</th><th scope=col>mad</th><th scope=col>mad_sd</th></tr>\n",
       "\t<tr><th scope=col>&lt;chr&gt;</th><th scope=col>&lt;dbl&gt;</th><th scope=col>&lt;dbl&gt;</th><th scope=col>&lt;dbl&gt;</th><th scope=col>&lt;dbl&gt;</th><th scope=col>&lt;dbl&gt;</th></tr>\n",
       "</thead>\n",
       "<tbody>\n",
       "\t<tr><td>T1</td><td>4.654310</td><td>23.85164</td><td> 53.54015</td><td>25.89661</td><td>0.4836857</td></tr>\n",
       "\t<tr><td>T2</td><td>3.109114</td><td>10.41627</td><td>130.43769</td><td>77.38268</td><td>0.5932540</td></tr>\n",
       "\t<tr><td>T3</td><td>3.329110</td><td>12.77684</td><td> 22.84697</td><td>13.20227</td><td>0.5778564</td></tr>\n",
       "</tbody>\n",
       "</table>\n"
      ],
      "text/latex": [
       "A tibble: 3 × 6\n",
       "\\begin{tabular}{llllll}\n",
       " timepoint & skewness & kurtosis & std & mad & mad\\_sd\\\\\n",
       " <chr> & <dbl> & <dbl> & <dbl> & <dbl> & <dbl>\\\\\n",
       "\\hline\n",
       "\t T1 & 4.654310 & 23.85164 &  53.54015 & 25.89661 & 0.4836857\\\\\n",
       "\t T2 & 3.109114 & 10.41627 & 130.43769 & 77.38268 & 0.5932540\\\\\n",
       "\t T3 & 3.329110 & 12.77684 &  22.84697 & 13.20227 & 0.5778564\\\\\n",
       "\\end{tabular}\n"
      ],
      "text/markdown": [
       "\n",
       "A tibble: 3 × 6\n",
       "\n",
       "| timepoint &lt;chr&gt; | skewness &lt;dbl&gt; | kurtosis &lt;dbl&gt; | std &lt;dbl&gt; | mad &lt;dbl&gt; | mad_sd &lt;dbl&gt; |\n",
       "|---|---|---|---|---|---|\n",
       "| T1 | 4.654310 | 23.85164 |  53.54015 | 25.89661 | 0.4836857 |\n",
       "| T2 | 3.109114 | 10.41627 | 130.43769 | 77.38268 | 0.5932540 |\n",
       "| T3 | 3.329110 | 12.77684 |  22.84697 | 13.20227 | 0.5778564 |\n",
       "\n"
      ],
      "text/plain": [
       "  timepoint skewness kurtosis std       mad      mad_sd   \n",
       "1 T1        4.654310 23.85164  53.54015 25.89661 0.4836857\n",
       "2 T2        3.109114 10.41627 130.43769 77.38268 0.5932540\n",
       "3 T3        3.329110 12.77684  22.84697 13.20227 0.5778564"
      ]
     },
     "metadata": {},
     "output_type": "display_data"
    }
   ],
   "source": [
    "temp |>\n",
    "  group_by(timepoint) |>\n",
    "  dplyr::summarise(skewness = skewness(FB), ## 0: gaussian; < 0 : mean < median (left-skew); > 0: mean > median (right-skew)\n",
    "                   kurtosis = kurtosis(FB), ## 0: gaussian; < 0: platykurtic (thin tails); > 0: leptokurtic (fat tails)\n",
    "                   std = sd(FB, na.rm=TRUE), \n",
    "                   mad = mean(abs(FB-mean(FB))), \n",
    "                   mad_sd = mad/std)"
   ]
  },
  {
   "cell_type": "code",
   "execution_count": 12,
   "id": "a47a0a92",
   "metadata": {},
   "outputs": [
    {
     "data": {
      "text/plain": [
       "Linear model under heavy-tailed distributions\n",
       " Data: temp; Family: Cauchy() \n",
       "\n",
       "Residuals:\n",
       "    Min      1Q  Median      3Q     Max \n",
       "-16.752  -4.474   2.262  16.811 660.252 \n",
       "\n",
       "Coefficients:\n",
       "                      Estimate Std.Error Z value p-value\n",
       "(Intercept)          14.3557   1.9107    7.5133  0.0000\n",
       "timepointT2           3.7479   2.4339    1.5399  0.1236\n",
       "timepointT3          -5.3001   2.2210   -2.3863  0.0170\n",
       "treatmentNot treated -0.8561   1.8726   -0.4571  0.6476\n",
       "\n",
       "Degrees of freedom: 133 total; 129 residual\n",
       "Scale estimate: 58.25649\n",
       "Log-likelihood: -610.1381 on 5 degrees of freedom"
      ]
     },
     "metadata": {},
     "output_type": "display_data"
    }
   ],
   "source": [
    "library(\"heavy\")\n",
    "\n",
    "temp <- fb |>\n",
    "    filter(!is.infinite(FB))\n",
    "\n",
    "fit <- heavyLm(FB ~ timepoint + treatment, data = temp, family = Cauchy())\n",
    "summary(fit)"
   ]
  },
  {
   "cell_type": "code",
   "execution_count": 13,
   "id": "70f3fa80",
   "metadata": {
    "scrolled": true
   },
   "outputs": [
    {
     "data": {
      "text/plain": [
       "Linear model under heavy-tailed distributions\n",
       " Data: temp; Family: Cauchy() \n",
       "\n",
       "Residuals:\n",
       "    Min      1Q  Median      3Q     Max \n",
       "-16.913  -4.199   2.423  17.368 660.091 \n",
       "\n",
       "Coefficients:\n",
       "             Estimate Std.Error Z value p-value\n",
       "(Intercept) 13.7988   1.6535    8.3452  0.0000\n",
       "timepointT2  3.6097   2.4161    1.4940  0.1352\n",
       "timepointT3 -5.2686   2.2047   -2.3898  0.0169\n",
       "\n",
       "Degrees of freedom: 133 total; 130 residual\n",
       "Scale estimate: 57.41605\n",
       "Log-likelihood: -610.2285 on 4 degrees of freedom"
      ]
     },
     "metadata": {},
     "output_type": "display_data"
    }
   ],
   "source": [
    "fit_reduced <- heavyLm(FB ~ timepoint, data = temp, family = Cauchy())\n",
    "summary(fit_reduced)"
   ]
  },
  {
   "cell_type": "markdown",
   "id": "b389ca55",
   "metadata": {},
   "source": [
    "#### Likelihood ratio test for the treatment effect"
   ]
  },
  {
   "cell_type": "code",
   "execution_count": 18,
   "id": "310dec2f",
   "metadata": {},
   "outputs": [],
   "source": [
    "loglik_full = fit$logLik\n",
    "loglik_reduced = fit_reduced$logLik"
   ]
  },
  {
   "cell_type": "code",
   "execution_count": 19,
   "id": "1df84531",
   "metadata": {},
   "outputs": [],
   "source": [
    "LR = -2*(loglik_reduced - loglik_full)"
   ]
  },
  {
   "cell_type": "code",
   "execution_count": 20,
   "id": "d2a318c4",
   "metadata": {},
   "outputs": [
    {
     "data": {
      "text/html": [
       "0.670682205422757"
      ],
      "text/latex": [
       "0.670682205422757"
      ],
      "text/markdown": [
       "0.670682205422757"
      ],
      "text/plain": [
       "[1] 0.6706822"
      ]
     },
     "metadata": {},
     "output_type": "display_data"
    }
   ],
   "source": [
    "## LR is distributed as chi-square random variable with 1 df (1 parameter difference between full and reduced models)\n",
    "(p.val <- pchisq(LR, df = 1, lower.tail = FALSE))"
   ]
  },
  {
   "cell_type": "markdown",
   "id": "e66ce25d",
   "metadata": {},
   "source": [
    "#### Likelihood ratio test for the timepoint effect"
   ]
  },
  {
   "cell_type": "code",
   "execution_count": 24,
   "id": "72e90ec6",
   "metadata": {},
   "outputs": [
    {
     "data": {
      "text/plain": [
       "Linear model under heavy-tailed distributions\n",
       " Data: temp; Family: Cauchy() \n",
       "\n",
       "Residuals:\n",
       "    Min      1Q  Median      3Q     Max \n",
       "-11.965  -3.851   1.737  20.487 666.237 \n",
       "\n",
       "Coefficients:\n",
       "                      Estimate Std.Error Z value p-value\n",
       "(Intercept)          11.9655   1.3692    8.7393  0.0000\n",
       "treatmentNot treated -0.7023   1.9148   -0.3668  0.7138\n",
       "\n",
       "Degrees of freedom: 133 total; 131 residual\n",
       "Scale estimate: 60.92475\n",
       "Log-likelihood: -616.6559 on 3 degrees of freedom"
      ]
     },
     "metadata": {},
     "output_type": "display_data"
    }
   ],
   "source": [
    "fit_reduced <- heavyLm(FB ~ treatment, data = temp, family = Cauchy())\n",
    "summary(fit_reduced)"
   ]
  },
  {
   "cell_type": "code",
   "execution_count": 25,
   "id": "77d59f13",
   "metadata": {},
   "outputs": [
    {
     "data": {
      "text/html": [
       "1.80127736672453e-184"
      ],
      "text/latex": [
       "1.80127736672453e-184"
      ],
      "text/markdown": [
       "1.80127736672453e-184"
      ],
      "text/plain": [
       "[1] 1.801277e-184"
      ]
     },
     "metadata": {},
     "output_type": "display_data"
    }
   ],
   "source": [
    "loglik_full = fit$logLik\n",
    "loglik_reduced = fit_reduced$logLik\n",
    "\n",
    "LR = -2*(loglik_reduced - loglik_full)\n",
    "\n",
    "(p.val <- pchisq(LR, df = 1, lower.tail = FALSE))"
   ]
  },
  {
   "cell_type": "markdown",
   "id": "d6c538ef",
   "metadata": {},
   "source": [
    "#### Cauchy regression for treatment by timepoint"
   ]
  },
  {
   "cell_type": "code",
   "execution_count": 23,
   "id": "f7ccc385",
   "metadata": {},
   "outputs": [
    {
     "name": "stdout",
     "output_type": "stream",
     "text": [
      "[1] \"T1\"\n",
      "Linear model under heavy-tailed distributions\n",
      " Data: dat; Family: Cauchy() \n",
      "\n",
      "Residuals:\n",
      "    Min      1Q  Median      3Q     Max \n",
      "-16.849  -4.127   1.391  16.443 329.131 \n",
      "\n",
      "Coefficients:\n",
      "                      Estimate Std.Error Z value p-value\n",
      "(Intercept)          16.8486   2.6139    6.4459  0.0000\n",
      "treatmentNot treated -3.9798   3.6966   -1.0766  0.2816\n",
      "\n",
      "Degrees of freedom: 42 total; 40 residual\n",
      "Scale estimate: 71.7391\n",
      "Log-likelihood: -190.675 on 3 degrees of freedom\n",
      "[1] \"T3\"\n",
      "Linear model under heavy-tailed distributions\n",
      " Data: dat; Family: Cauchy() \n",
      "\n",
      "Residuals:\n",
      "    Min      1Q  Median      3Q     Max \n",
      " -7.924  -2.464   1.043   9.852 126.626 \n",
      "\n",
      "Coefficients:\n",
      "                      Estimate Std.Error Z value p-value\n",
      "(Intercept)          6.3269   1.1500    5.5017  0.0000 \n",
      "treatmentNot treated 2.6299   1.5970    1.6468  0.0996 \n",
      "\n",
      "Degrees of freedom: 54 total; 52 residual\n",
      "Scale estimate: 17.19227\n",
      "Log-likelihood: -210.1663 on 3 degrees of freedom\n",
      "[1] \"T2\"\n",
      "Linear model under heavy-tailed distributions\n",
      " Data: dat; Family: Cauchy() \n",
      "\n",
      "Residuals:\n",
      "    Min      1Q  Median      3Q     Max \n",
      "-33.422  -9.061   5.344  16.011 660.439 \n",
      "\n",
      "Coefficients:\n",
      "                      Estimate Std.Error Z value  p-value \n",
      "(Intercept)           35.6560   4.8573    7.3406   0.0000\n",
      "treatmentNot treated -18.5950   6.7783   -2.7433   0.0061\n",
      "\n",
      "Degrees of freedom: 37 total; 35 residual\n",
      "Scale estimate: 212.3434\n",
      "Log-likelihood: -197.1618 on 3 degrees of freedom\n"
     ]
    }
   ],
   "source": [
    "temp <- fb |> filter(!is.infinite(FB))\n",
    "\n",
    "for (step in unique(temp$timepoint)) {\n",
    "    \n",
    "    print(step)\n",
    "    dat = filter(temp, timepoint == step)\n",
    "    fit <- heavyLm(FB ~ treatment, data = dat, family = Cauchy())\n",
    "    print(summary(fit))\n",
    "}"
   ]
  },
  {
   "cell_type": "markdown",
   "id": "f1a45ffd",
   "metadata": {},
   "source": [
    "#### Plotting FB"
   ]
  },
  {
   "cell_type": "code",
   "execution_count": 26,
   "id": "adae4d2d",
   "metadata": {
    "lines_to_next_cell": 2,
    "scrolled": true
   },
   "outputs": [
    {
     "name": "stderr",
     "output_type": "stream",
     "text": [
      "Warning message in geom_boxplot(aes(color = treatment), alpha = 1/10, outliers = FALSE):\n",
      "“\u001b[1m\u001b[22mIgnoring unknown parameters: `outliers`”\n"
     ]
    },
    {
     "data": {
      "image/png": "[encoded data removed]",
      "text/plain": [
       "plot without title"
      ]
     },
     "metadata": {
      "image/png": {
       "height": 420,
       "width": 420
      }
     },
     "output_type": "display_data"
    }
   ],
   "source": [
    "p1 <- ggplot(filter(fb, FB != Inf), aes(x = treatment, y = FB)) \n",
    "p1 <- p1 + geom_boxplot(aes(color = treatment), alpha = 1/10, outliers = FALSE)\n",
    "p1 <- p1 + geom_jitter(aes(color=treatment), width = 0.25)\n",
    "p1 <- p1 + facet_wrap(~timepoint)\n",
    "p1"
   ]
  },
  {
   "cell_type": "markdown",
   "id": "bc7e01d8",
   "metadata": {},
   "source": [
    "#### Benchmark gaussian linear regression model by timepoint "
   ]
  },
  {
   "cell_type": "code",
   "execution_count": 27,
   "id": "ab3c779d",
   "metadata": {},
   "outputs": [],
   "source": [
    "temp <- filter(fb, FB != Inf) |>\n",
    "  group_by(timepoint) |>\n",
    "  do(tidy(lm(FB ~ treatment, data = .))) |>\n",
    "  filter(term != \"(Intercept)\") |>\n",
    "  mutate(term = gsub('treatment','',term)) |>\n",
    "  rename(treatment = term) |>\n",
    "  select(timepoint, treatment, p.value)"
   ]
  },
  {
   "cell_type": "code",
   "execution_count": 28,
   "id": "fb5e2273",
   "metadata": {},
   "outputs": [
    {
     "data": {
      "text/html": [
       "<table class=\"dataframe\">\n",
       "<caption>A grouped_df: 3 × 3</caption>\n",
       "<thead>\n",
       "\t<tr><th scope=col>timepoint</th><th scope=col>treatment</th><th scope=col>p.value</th></tr>\n",
       "\t<tr><th scope=col>&lt;chr&gt;</th><th scope=col>&lt;chr&gt;</th><th scope=col>&lt;dbl&gt;</th></tr>\n",
       "</thead>\n",
       "<tbody>\n",
       "\t<tr><td>T1</td><td>Not treated</td><td>0.60372710</td></tr>\n",
       "\t<tr><td>T2</td><td>Not treated</td><td>0.47738870</td></tr>\n",
       "\t<tr><td>T3</td><td>Not treated</td><td>0.08183304</td></tr>\n",
       "</tbody>\n",
       "</table>\n"
      ],
      "text/latex": [
       "A grouped\\_df: 3 × 3\n",
       "\\begin{tabular}{lll}\n",
       " timepoint & treatment & p.value\\\\\n",
       " <chr> & <chr> & <dbl>\\\\\n",
       "\\hline\n",
       "\t T1 & Not treated & 0.60372710\\\\\n",
       "\t T2 & Not treated & 0.47738870\\\\\n",
       "\t T3 & Not treated & 0.08183304\\\\\n",
       "\\end{tabular}\n"
      ],
      "text/markdown": [
       "\n",
       "A grouped_df: 3 × 3\n",
       "\n",
       "| timepoint &lt;chr&gt; | treatment &lt;chr&gt; | p.value &lt;dbl&gt; |\n",
       "|---|---|---|\n",
       "| T1 | Not treated | 0.60372710 |\n",
       "| T2 | Not treated | 0.47738870 |\n",
       "| T3 | Not treated | 0.08183304 |\n",
       "\n"
      ],
      "text/plain": [
       "  timepoint treatment   p.value   \n",
       "1 T1        Not treated 0.60372710\n",
       "2 T2        Not treated 0.47738870\n",
       "3 T3        Not treated 0.08183304"
      ]
     },
     "metadata": {},
     "output_type": "display_data"
    }
   ],
   "source": [
    "temp"
   ]
  },
  {
   "cell_type": "markdown",
   "id": "76562aaf",
   "metadata": {},
   "source": [
    "## power regression\n",
    "\n",
    "Many processes do not follow the *Gaussian distribution*:\n",
    "\n",
    "*\"80% of all effects results from 20% of all causes\"* (Pareto)\n",
    "\n",
    "For example, 20% of all people own 80% of all wealth.\n",
    "These heavy tailed distributions had been used to describe the number of papers published by scientists, sizes of cities and word frequency (Keller 2005 \"Revisiting ‘Scale-Free’ Networks.\").\n",
    "\n",
    "- Barabási and Réka 1999 (Science): the distribution of hyperlinks in the web follows a power law distribution (connectivity of web pages, $k$, decreased with rate $k \\alpha$)\n",
    "- Albert, Jeong, and Barabási 1999 (Nature): \"scale-free\" phenomena (e.g. casualty numbers in armed conflicts, the occurrence of unique words in the novel Moby Dick etc.) \n",
    "\n",
    "There are two basic types of **power law distributions**:\n",
    "\n",
    "1. discrete\n",
    "2. continuous"
   ]
  },
  {
   "cell_type": "code",
   "execution_count": 85,
   "id": "569aae1c",
   "metadata": {},
   "outputs": [
    {
     "name": "stderr",
     "output_type": "stream",
     "text": [
      "\n",
      "Attaching package: ‘poweRlaw’\n",
      "\n",
      "\n",
      "The following object is masked from ‘package:broom’:\n",
      "\n",
      "    bootstrap\n",
      "\n",
      "\n"
     ]
    }
   ],
   "source": [
    "library(\"poweRlaw\")"
   ]
  }
 ],
 "metadata": {
  "jupytext": {
   "cell_metadata_filter": "-all",
   "notebook_metadata_filter": "-all"
  },
  "kernelspec": {
   "display_name": "R",
   "language": "R",
   "name": "ir"
  },
  "language_info": {
   "codemirror_mode": "r",
   "file_extension": ".r",
   "mimetype": "text/x-r-source",
   "name": "R",
   "pygments_lexer": "r",
   "version": "4.2.0"
  }
 },
 "nbformat": 4,
 "nbformat_minor": 5
}
